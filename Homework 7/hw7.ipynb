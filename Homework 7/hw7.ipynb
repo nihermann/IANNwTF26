{
  "nbformat": 4,
  "nbformat_minor": 0,
  "metadata": {
    "colab": {
      "name": "hw7.ipynb",
      "provenance": [],
      "collapsed_sections": [
        "pU3FoNVx10ug"
      ]
    },
    "kernelspec": {
      "name": "python3",
      "display_name": "Python 3"
    },
    "accelerator": "GPU"
  },
  "cells": [
    {
      "cell_type": "code",
      "metadata": {
        "id": "zJg-53ASkYpV"
      },
      "source": [
        "import tensorflow as tf\r\n",
        "from tensorflow.keras import Model\r\n",
        "from tensorflow.keras import layers\r\n",
        "import numpy as np\r\n",
        "import matplotlib.pyplot as plt\r\n",
        "import time\r\n",
        "import datetime\r\n",
        "import os"
      ],
      "execution_count": 172,
      "outputs": []
    },
    {
      "cell_type": "code",
      "metadata": {
        "id": "r-8Yh59Dk2aJ"
      },
      "source": [
        "(x_training, _), (x_test, y_test) = tf.keras.datasets.fashion_mnist.load_data()"
      ],
      "execution_count": 173,
      "outputs": []
    },
    {
      "cell_type": "code",
      "metadata": {
        "id": "IqU2Vqsvk2wz"
      },
      "source": [
        "x_validation = x_training[:5000]\r\n",
        "x_training = x_training[5000:]"
      ],
      "execution_count": 174,
      "outputs": []
    },
    {
      "cell_type": "markdown",
      "metadata": {
        "id": "3j0UQeAgnZUW"
      },
      "source": [
        "# Global Settings"
      ]
    },
    {
      "cell_type": "code",
      "metadata": {
        "id": "VwrW46Irk22P"
      },
      "source": [
        "## HYPERPARAMETERS\r\n",
        "# Data\r\n",
        "BATCH_SIZE = 64\r\n",
        "SHUFFLE_BUFFER = 1000\r\n",
        "CACHE_PATH = \"/content/drive/MyDrive/cache/fashion_mnist/\"\r\n",
        "\r\n",
        "# Training\r\n",
        "EPOCHS = 15\r\n",
        "LEARNING_RATE = 0.001\r\n",
        "\r\n",
        "# loss\r\n",
        "LOSS_FUNCTION = tf.keras.losses.MeanSquaredError()\r\n",
        "# optimizer\r\n",
        "OPTIMIZER = tf.keras.optimizers.Adam(LEARNING_RATE)"
      ],
      "execution_count": 175,
      "outputs": []
    },
    {
      "cell_type": "markdown",
      "metadata": {
        "id": "fme-QMgNnmlZ"
      },
      "source": [
        "# Pipeline"
      ]
    },
    {
      "cell_type": "code",
      "metadata": {
        "id": "V-rk4bTfsVYa"
      },
      "source": [
        "if not os.path.exists(CACHE_PATH):\r\n",
        "    os.makedirs(CACHE_PATH[:-1])"
      ],
      "execution_count": 176,
      "outputs": []
    },
    {
      "cell_type": "code",
      "metadata": {
        "id": "RzsXVFcUk24i"
      },
      "source": [
        "def build_pipeline(x, batchsize, shuffle_buffer, horizontal_flip=False, sample_pairing=False):\r\n",
        "    x = tf.reshape(x, (x.shape[0], 28, 28,1))\r\n",
        "    ds = tf.data.Dataset.from_tensor_slices((x, x))\r\n",
        "    ds = ds.map(lambda img, img2: (img/255, img/255))\r\n",
        "\r\n",
        "    # cache the preprocessing for better performance\r\n",
        "    ds = ds.cache(CACHE_PATH)\r\n",
        "\r\n",
        "    ds = ds.shuffle(buffer_size=shuffle_buffer)\r\n",
        "    ds = ds.batch(batchsize)\r\n",
        "\r\n",
        "    ds = ds.prefetch(tf.data.experimental.AUTOTUNE)\r\n",
        "\r\n",
        "    return ds"
      ],
      "execution_count": 177,
      "outputs": []
    },
    {
      "cell_type": "markdown",
      "metadata": {
        "id": "G06b8eqgtggz"
      },
      "source": [
        "# Model"
      ]
    },
    {
      "cell_type": "markdown",
      "metadata": {
        "id": "pU3FoNVx10ug"
      },
      "source": [
        "## old"
      ]
    },
    {
      "cell_type": "code",
      "metadata": {
        "id": "VXjdxWNlk29O"
      },
      "source": [
        "# class Model(Model):\r\n",
        "#     def __init__(self):\r\n",
        "\r\n",
        "#         super(Model, self).__init__()\r\n",
        "#         # create a list of all layers to iterate over all later.\r\n",
        "#         self.layer_list = [\r\n",
        "                           \r\n",
        "#         #first conv layer \r\n",
        "#         layers.Conv2D(filters=64,kernel_size=3, kernel_regularizer = tf.keras.regularizers.l2(l2=0.01),input_shape=(BATCH_SIZE, 28, 28, 1), padding=\"same\"),\r\n",
        "        \r\n",
        "#         #normalize batch\r\n",
        "#         layers.BatchNormalization(),\r\n",
        "#         layers.Activation('relu'),\r\n",
        "        \r\n",
        "#         #second conv layer \r\n",
        "#         layers.Conv2D(filters=96,kernel_size=3,kernel_regularizer = tf.keras.regularizers.l2(l2=0.01),padding=\"same\"),\r\n",
        "#         layers.BatchNormalization(),\r\n",
        "#         layers.Activation('relu'),\r\n",
        "#         layers.MaxPooling2D(pool_size=(2,2)),\r\n",
        "\r\n",
        "#         # third conv layer \r\n",
        "#         layers.Conv2D(filters=96,kernel_size=3,kernel_regularizer = tf.keras.regularizers.l2(l2=0.01),padding=\"same\"),\r\n",
        "#         layers.BatchNormalization(),\r\n",
        "#         layers.Activation('relu'),\r\n",
        "\r\n",
        "#         # fourth conv layer \r\n",
        "#         layers.Conv2D(filters=128,kernel_size=3,kernel_regularizer = tf.keras.regularizers.l2(l2=0.01),padding=\"same\"),\r\n",
        "#         layers.BatchNormalization(),\r\n",
        "#         layers.Activation('relu'),\r\n",
        "#         layers.MaxPooling2D(pool_size=(2,2)),\r\n",
        "        \r\n",
        "#         # fifth conv layer \r\n",
        "#         layers.Conv2D(filters=128,kernel_size=3,kernel_regularizer = tf.keras.regularizers.l2(l2=0.01),padding=\"same\"),\r\n",
        "#         layers.BatchNormalization(),\r\n",
        "#         layers.Activation('relu'),\r\n",
        "\r\n",
        "#         # sixth conv layer\r\n",
        "#         layers.Conv2D(filters=192,kernel_size=3,kernel_regularizer = tf.keras.regularizers.l2(l2=0.01),padding=\"same\"),\r\n",
        "#         layers.BatchNormalization(),\r\n",
        "#         layers.Activation('relu'),\r\n",
        "#         layers.MaxPooling2D(pool_size=(2,2)),\r\n",
        "#         layers.Flatten(),\r\n",
        "\r\n",
        "#         # final layers\r\n",
        "#         layers.Dropout(0.4),\r\n",
        "#         layers.Dense(units=512),\r\n",
        "#         layers.Activation('relu'),\r\n",
        "#         layers.Dropout(0.3),\r\n",
        "\r\n",
        "#         #output layer \r\n",
        "#         layers.Dense(10,activation=tf.keras.activations.softmax)\r\n",
        "#         ]\r\n",
        "    \r\n",
        "#     @tf.function\r\n",
        "#     def call(self, x, training = True):\r\n",
        "#         #Define the forward step\r\n",
        "#         #iterate through a previously defined list with layers and return the end result\r\n",
        "#         for layer in self.layer_list:\r\n",
        "#           x = layer(x, training = training)\r\n",
        "        \r\n",
        "#         return x"
      ],
      "execution_count": 178,
      "outputs": []
    },
    {
      "cell_type": "markdown",
      "metadata": {
        "id": "Vpm4Piu812Rq"
      },
      "source": [
        "## new"
      ]
    },
    {
      "cell_type": "code",
      "metadata": {
        "id": "KlYrnSiKk2_n"
      },
      "source": [
        "class Encoder(Model):\r\n",
        "    def __init__(self, embedding_dim):\r\n",
        "        super(Encoder, self).__init__()\r\n",
        "        self.layer_list = [\r\n",
        "        # first conv layer  \r\n",
        "        layers.Conv2D(filters=32, strides=2, kernel_size=3, padding=\"same\", kernel_regularizer=tf.keras.regularizers.L2(), input_shape=(BATCH_SIZE, 28,28,1)),\r\n",
        "        layers.BatchNormalization(),\r\n",
        "        layers.Activation('relu'),\r\n",
        "\r\n",
        "        # second conv layer \r\n",
        "        layers.Conv2D(filters=16, kernel_size=3, kernel_regularizer = tf.keras.regularizers.l2(l2=0.01), padding=\"same\"),\r\n",
        "        layers.BatchNormalization(),\r\n",
        "        layers.Activation('relu'),\r\n",
        "\r\n",
        "        layers.Flatten(),\r\n",
        "        layers.Dense(embedding_dim, kernel_regularizer = tf.keras.regularizers.l2(l2=0.01)),\r\n",
        "        layers.Activation(\"sigmoid\")\r\n",
        "\r\n",
        "        ]\r\n",
        "    \r\n",
        "    def call(self, x, training):\r\n",
        "        for layer in self.layer_list:\r\n",
        "            x = layer(x, training=training)\r\n",
        "        return x\r\n"
      ],
      "execution_count": 179,
      "outputs": []
    },
    {
      "cell_type": "code",
      "metadata": {
        "id": "RG0uYfbHqPH6"
      },
      "source": [
        "class Decoder(Model):\r\n",
        "    def __init__(self, embedding_dim):\r\n",
        "        super(Decoder, self).__init__()\r\n",
        "\r\n",
        "        self.layer_list = [\r\n",
        "        layers.Dense(1176, activation=layers.Activation(\"sigmoid\"), input_shape=(BATCH_SIZE, embedding_dim)),\r\n",
        "        \r\n",
        "        layers.Reshape((7,7,24)),\r\n",
        "\r\n",
        "        layers.Conv2DTranspose(filters=16, kernel_size=3, strides=2, padding=\"same\", kernel_regularizer = tf.keras.regularizers.l2(l2=0.01)),\r\n",
        "        layers.BatchNormalization(),\r\n",
        "        layers.Activation(\"relu\"),\r\n",
        "\r\n",
        "        layers.Conv2DTranspose(filters=32, kernel_size=3, strides=2, padding=\"same\", kernel_regularizer = tf.keras.regularizers.l2(l2=0.01)),\r\n",
        "        layers.BatchNormalization(),\r\n",
        "        layers.Activation(\"relu\"),\r\n",
        "\r\n",
        "        layers.Conv2D(1, kernel_size=3, padding=\"same\"),\r\n",
        "        layers.Activation(\"sigmoid\")\r\n",
        "        \r\n",
        "        ]\r\n",
        "\r\n",
        "    def call(self, x, training):\r\n",
        "        for layer in self.layer_list:\r\n",
        "            x = layer(x, training=training)\r\n",
        "        return x"
      ],
      "execution_count": 180,
      "outputs": []
    },
    {
      "cell_type": "code",
      "metadata": {
        "id": "l90pcJjnqPe8"
      },
      "source": [
        "class Autoencoder(Model):\r\n",
        "    def __init__(self, embedding_dim):\r\n",
        "        super(Autoencoder, self).__init__()\r\n",
        "\r\n",
        "        self.encoder = Encoder(embedding_dim)\r\n",
        "        self.decoder = Decoder(embedding_dim)\r\n",
        "\r\n",
        "    def call(self, x, training):\r\n",
        "        x = self.encoder(x, training=training)\r\n",
        "        x = self.decoder(x, training=training)\r\n",
        "        return x\r\n"
      ],
      "execution_count": 181,
      "outputs": []
    },
    {
      "cell_type": "markdown",
      "metadata": {
        "id": "Rjp4f1gYn1Tb"
      },
      "source": [
        "# Training Methods"
      ]
    },
    {
      "cell_type": "code",
      "metadata": {
        "id": "2Tz11xK-k3Fi"
      },
      "source": [
        "@tf.function\r\n",
        "def forward_step(model, img, label ,loss_func, optimizer, training=True):\r\n",
        "    with tf.GradientTape() as tape:\r\n",
        "        prediction = model(img, training)\r\n",
        "        loss = loss_func(label, prediction) #+ tf.reduce_sum(model.losses)\r\n",
        "        gradients = tape.gradient(loss, model.trainable_variables)\r\n",
        "    optimizer.apply_gradients(zip(gradients, model.trainable_variables))\r\n",
        "\r\n",
        "    return tf.reduce_mean(loss)\r\n",
        "\r\n",
        "def test(model, test_data, loss_function):\r\n",
        "    # test over complete test data\r\n",
        "\r\n",
        "    test_accuracy_aggregator = []\r\n",
        "    test_loss_aggregator = []\r\n",
        "\r\n",
        "    for (data, target) in test_data:\r\n",
        "        prediction = model(data, False)\r\n",
        "        ## Calc Loss and its partial mean\r\n",
        "        sample_test_loss = loss_function(target, prediction)\r\n",
        "        test_loss_aggregator.append(np.mean(sample_test_loss.numpy()))\r\n",
        "\r\n",
        "    test_loss = np.mean(test_loss_aggregator)\r\n",
        "\r\n",
        "    return test_loss\r\n",
        "\r\n",
        "# thanks to Cornelius who shared this function which I adjusted a bit\r\n",
        "def estimateTime(epoch, time_passed, number_of_epochs):\r\n",
        "    \"\"\"\r\n",
        "    estimates the time it will take until the network is done with training.\r\n",
        "    \"\"\"\r\n",
        "    epoch += 1\r\n",
        "    time_per_epoch = time_passed / epoch\r\n",
        "    number_of_epochs_left = number_of_epochs - epoch\r\n",
        "    time_sec_remaining = number_of_epochs_left * time_per_epoch\r\n",
        "    time_remain = str(datetime.timedelta(seconds=time_sec_remaining))\r\n",
        "    return time_remain\r\n",
        "\r\n",
        "def save_best_weights(accuracy, best_so_far):\r\n",
        "    '''saves the best model if acc > preset threshold and if it is the best one so far'''\r\n",
        "    global SAVING_THRESHOLD\r\n",
        "    if (accuracy > SAVING_THRESHOLD) and best_so_far:\r\n",
        "        model.save(SAVE_PATH + str(int(accuracy*100)))\r\n",
        "        SAVING_THRESHOLD = accuracy\r\n",
        "        return True\r\n",
        "    return False"
      ],
      "execution_count": 182,
      "outputs": []
    },
    {
      "cell_type": "markdown",
      "metadata": {
        "id": "vFdq-4rsn8Av"
      },
      "source": [
        "# Training"
      ]
    },
    {
      "cell_type": "code",
      "metadata": {
        "id": "EgjPC7Fzk3I5"
      },
      "source": [
        "training_ds = build_pipeline(x_training, BATCH_SIZE, SHUFFLE_BUFFER)\r\n",
        "test_ds = build_pipeline(x_test, BATCH_SIZE, SHUFFLE_BUFFER)\r\n",
        "validation_ds = build_pipeline(x_validation, BATCH_SIZE, SHUFFLE_BUFFER)"
      ],
      "execution_count": 183,
      "outputs": []
    },
    {
      "cell_type": "code",
      "metadata": {
        "colab": {
          "base_uri": "https://localhost:8080/"
        },
        "id": "ZXF9ggoek3Mz",
        "outputId": "4cc4dad1-fa57-4be4-fd09-148715a5bcbd"
      },
      "source": [
        "tf.keras.backend.clear_session()\r\n",
        "\r\n",
        "startTime = time.time()\r\n",
        "print(f\"Initialize, {datetime.timedelta(seconds=startTime)}\")\r\n",
        "\r\n",
        "# Initialize NN\r\n",
        "model = Autoencoder(10)\r\n",
        "\r\n",
        "# lists for losses\r\n",
        "training_losses = []\r\n",
        "validation_losses = []\r\n",
        "\r\n",
        "# let's test our Model how it performes on the validation dataset before learning\r\n",
        "validation_loss = test(model, validation_ds, LOSS_FUNCTION)\r\n",
        "validation_losses.append(validation_loss)\r\n",
        "\r\n",
        "# check how our Model performs on training dataset before learning\r\n",
        "training_loss = test(model, training_ds, LOSS_FUNCTION)\r\n",
        "training_losses.append(training_loss)\r\n",
        "\r\n",
        "print(f\"Start Training for {EPOCHS} Epochs\", f\"Training Loss: {np.round(float(training_loss), 3)}, Test Loss: {np.round(float(validation_loss),3)}\", sep=\"\\n\")\r\n",
        "\r\n",
        "startTime = time.time()\r\n",
        "# We train for before specified epochs.\r\n",
        "for epoch in range(EPOCHS):\r\n",
        "    if epoch % 5 == 0:\r\n",
        "        print(\"-\"*20)\r\n",
        "    print('Epoch: __ ', (epoch + 1))#, \", Pairing = \" + str(bool(PHASECONTROLLER[epoch])))\r\n",
        "\r\n",
        "    # perform a training step with each entry of our data pipeline and record loss and accuracy\r\n",
        "    for (data, label) in training_ds:\r\n",
        "        training_loss = forward_step(model, data, label, LOSS_FUNCTION, OPTIMIZER)\r\n",
        "\r\n",
        "    # save loss and accuracy\r\n",
        "    training_losses.append(training_loss)\r\n",
        "\r\n",
        "    # check how our Model performs after one learning epoch on our validation dataset and record Loss and Acc. as well\r\n",
        "    validation_loss = test(model, validation_ds, LOSS_FUNCTION)\r\n",
        "    validation_losses.append(validation_loss)\r\n",
        "    \r\n",
        "    print(f\"Training Loss: {np.round(float(training_loss), 3)}, Test Loss: {np.round(float(validation_loss), 3)}, Finish in: {str(estimateTime(epoch, time.time() - startTime, EPOCHS))[:7]}\")"
      ],
      "execution_count": 184,
      "outputs": [
        {
          "output_type": "stream",
          "text": [
            "Initialize, 18612 days, 20:52:21.766312\n",
            "Start Training for 15 Epochs\n",
            "Training Loss: 0.168, Test Loss: 0.169\n",
            "--------------------\n",
            "Epoch: __  1\n",
            "Training Loss: 0.06, Test Loss: 0.139, Finish in: 0:00:23\n",
            "Epoch: __  2\n",
            "Training Loss: 0.034, Test Loss: 0.122, Finish in: 0:00:15\n",
            "Epoch: __  3\n",
            "Training Loss: 0.029, Test Loss: 0.109, Finish in: 0:00:12\n",
            "Epoch: __  4\n",
            "Training Loss: 0.031, Test Loss: 0.097, Finish in: 0:00:10\n",
            "Epoch: __  5\n",
            "Training Loss: 0.028, Test Loss: 0.097, Finish in: 0:00:09\n",
            "--------------------\n",
            "Epoch: __  6\n",
            "Training Loss: 0.021, Test Loss: 0.075, Finish in: 0:00:08\n",
            "Epoch: __  7\n",
            "Training Loss: 0.029, Test Loss: 0.048, Finish in: 0:00:07\n",
            "Epoch: __  8\n",
            "Training Loss: 0.021, Test Loss: 0.034, Finish in: 0:00:06\n",
            "Epoch: __  9\n",
            "Training Loss: 0.023, Test Loss: 0.026, Finish in: 0:00:05\n",
            "Epoch: __  10\n",
            "Training Loss: 0.019, Test Loss: 0.024, Finish in: 0:00:04\n",
            "--------------------\n",
            "Epoch: __  11\n",
            "Training Loss: 0.029, Test Loss: 0.022, Finish in: 0:00:03\n",
            "Epoch: __  12\n",
            "Training Loss: 0.019, Test Loss: 0.022, Finish in: 0:00:02\n",
            "Epoch: __  13\n",
            "Training Loss: 0.047, Test Loss: 0.037, Finish in: 0:00:01\n",
            "Epoch: __  14\n",
            "Training Loss: 0.022, Test Loss: 0.021, Finish in: 0:00:00\n",
            "Epoch: __  15\n",
            "Training Loss: 0.019, Test Loss: 0.024, Finish in: 0:00:00\n"
          ],
          "name": "stdout"
        }
      ]
    },
    {
      "cell_type": "markdown",
      "metadata": {
        "id": "BXpUOj6KV08r"
      },
      "source": [
        "# Vizualization"
      ]
    },
    {
      "cell_type": "code",
      "metadata": {
        "id": "Z2kD07Wv_cuw"
      },
      "source": [
        "autoencoded_img = None\r\n",
        "original = None\r\n",
        "for img, org_img in test_ds:\r\n",
        "    autoencoded_img = model(img, False)\r\n",
        "    original = org_img\r\n",
        "    break"
      ],
      "execution_count": 185,
      "outputs": []
    },
    {
      "cell_type": "code",
      "metadata": {
        "colab": {
          "base_uri": "https://localhost:8080/",
          "height": 206
        },
        "id": "_Yu1RHjD-e5_",
        "outputId": "7e3d3298-fe8b-449d-81e6-c5b49e229b19"
      },
      "source": [
        "n = 10\r\n",
        "plt.figure(figsize=(20, 4))\r\n",
        "for i in range(n):\r\n",
        "\r\n",
        "    # display original + noise\r\n",
        "    ax = plt.subplot(2, n, i + 1)\r\n",
        "    plt.title(\"original\")\r\n",
        "    plt.imshow(tf.squeeze(original[i]))\r\n",
        "    plt.gray()\r\n",
        "    ax.get_xaxis().set_visible(False)\r\n",
        "    ax.get_yaxis().set_visible(False)\r\n",
        "\r\n",
        "    # display reconstruction\r\n",
        "    bx = plt.subplot(2, n, i + n + 1)\r\n",
        "    plt.title(\"reconstructed\")\r\n",
        "    plt.imshow(tf.squeeze(autoencoded_img[i]))\r\n",
        "    plt.gray()\r\n",
        "    bx.get_xaxis().set_visible(False)\r\n",
        "    bx.get_yaxis().set_visible(False)\r\n",
        "plt.show()"
      ],
      "execution_count": 191,
      "outputs": [
        {
          "output_type": "display_data",
          "data": {
            "image/png": "[encoded data removed]",
            "text/plain": [
              "<Figure size 1440x288 with 20 Axes>"
            ]
          },
          "metadata": {
            "tags": [],
            "needs_background": "light"
          }
        }
      ]
    },
    {
      "cell_type": "markdown",
      "metadata": {
        "id": "O7CncewBV9c6"
      },
      "source": [
        "## TSNE"
      ]
    },
    {
      "cell_type": "code",
      "metadata": {
        "id": "UDEeVoudIQlf"
      },
      "source": [
        "from sklearn.manifold import TSNE"
      ],
      "execution_count": 187,
      "outputs": []
    },
    {
      "cell_type": "code",
      "metadata": {
        "id": "GjBKYPDRIRuc"
      },
      "source": [
        "test_new = tf.reshape(tf.cast(x_test/255, tf.float32), (x_test.shape[0], 28,28,1))\r\n",
        "encoded = None\r\n",
        "# for (img, org) in test_new:\r\n",
        "encoded = model.encoder(test_new[:1000], False)\r\n",
        "    # break"
      ],
      "execution_count": 188,
      "outputs": []
    },
    {
      "cell_type": "code",
      "metadata": {
        "id": "4cKKVToCJbK4"
      },
      "source": [
        "embedded = TSNE(2).fit_transform(encoded)"
      ],
      "execution_count": 189,
      "outputs": []
    },
    {
      "cell_type": "code",
      "metadata": {
        "colab": {
          "base_uri": "https://localhost:8080/",
          "height": 265
        },
        "id": "QCIfiGSuPQq_",
        "outputId": "d0f0dbc7-b0b0-46cf-b721-9e7e2b9dd820"
      },
      "source": [
        "label_names = {0:\"T-shirt/top\", 1:\"Trouser\", 2:\"Pullover\",3:\"Dress\",4:\"Coat\",5:\"Sandal\",6:\"Shirt\",7:\"Sneaker\",8:\"Bag\",9:\"Ankle boots\"}\r\n",
        "\r\n",
        "scatter_x = embedded[:,0]\r\n",
        "scatter_y = embedded[:,1]\r\n",
        "group = y_test[:1000]\r\n",
        "cdict = {0: 'magenta', 1: 'red', 2: 'blue', 3: 'green', 4: 'purple', 5: 'orange', 6: 'yellow', 7: 'brown', 8: 'black', 9: 'cyan'}\r\n",
        "\r\n",
        "fig, ax = plt.subplots()\r\n",
        "for g in np.unique(group):\r\n",
        "    ix = np.where(group == g)\r\n",
        "    ax.scatter(scatter_x[ix], scatter_y[ix], c = cdict[g], label = label_names[g])\r\n",
        "ax.legend()\r\n",
        "plt.show()"
      ],
      "execution_count": 190,
      "outputs": [
        {
          "output_type": "display_data",
          "data": {
            "image/png": "[encoded data removed]",
            "text/plain": [
              "<Figure size 432x288 with 1 Axes>"
            ]
          },
          "metadata": {
            "tags": [],
            "needs_background": "light"
          }
        }
      ]
    },
    {
      "cell_type": "markdown",
      "metadata": {
        "id": "NXbXMhqGU2cb"
      },
      "source": [
        "The encoded images were reduced to an intrinsic dimensionality of two. Which seemed to work out since same and similar classes are also closer togehter in the plot."
      ]
    }
  ]
}
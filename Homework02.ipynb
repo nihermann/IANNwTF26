{
 "cells": [
  {
   "cell_type": "markdown",
   "metadata": {
    "id": "8D0HUwWAEKeM"
   },
   "source": [
    "Homework02"
   ]
  },
  {
   "cell_type": "code",
   "execution_count": 319,
   "metadata": {
    "id": "7euT0HdQEKeR",
    "scrolled": true
   },
   "outputs": [],
   "source": [
    "import numpy as np\n",
    "import matplotlib.pyplot as plt\n"
   ]
  },
  {
   "cell_type": "code",
   "execution_count": 320,
   "metadata": {},
   "outputs": [],
   "source": [
    "# define the activation function: sigmoid\n",
    "def sigmoid(x):\n",
    "    return 1 / (1 + np.exp(-x))"
   ]
  },
  {
   "cell_type": "code",
   "execution_count": 321,
   "metadata": {},
   "outputs": [],
   "source": [
    "# the derivative of the activation function\n",
    "def sigmoidprime(x):\n",
    "    return sigmoid(x) * (1 - sigmoid(x))"
   ]
  },
  {
   "cell_type": "code",
   "execution_count": 322,
   "metadata": {
    "id": "8bO7NpCDEKej"
   },
   "outputs": [],
   "source": [
    "# four possible input pairs of (x1,x2)\n",
    "possible_inputs = np.array([[0,0],[0,1],[1,0],[1,1]])\n",
    "\n",
    "# target\n",
    "t_xor = np.array([0,1,1,0])"
   ]
  },
  {
   "cell_type": "markdown",
   "metadata": {
    "id": "0_PT3Q_gEKer"
   },
   "source": [
    "#### Implement Perceptron."
   ]
  },
  {
   "cell_type": "code",
   "execution_count": 323,
   "metadata": {
    "id": "pDWFmomzEKet"
   },
   "outputs": [],
   "source": [
    "# implement the perceptron class\n",
    "\n",
    "class Perceptron:\n",
    "    \n",
    "    def __init__(self, input_units):\n",
    "        self.input_units = input_units\n",
    "        \n",
    "        # Initialize random weights and a random bias term\n",
    "        self.weights = np.random.randn(input_units)\n",
    "        self.bias = np.random.randn()\n",
    "        # Define the learning rate as 1\n",
    "        self.alpha = 1\n",
    "        \n",
    "        # initialize the variable for later use\n",
    "        self.inputs = 0 \n",
    "        self.weighted_sum = 0\n",
    "        \n",
    "    def forward_step(self, inputs):\n",
    "        # Perform a perceptron forward step:\n",
    "        self.inputs = inputs\n",
    "                  \n",
    "        # 1. Calculate the drive (use @ as a matrix multiplication command)\n",
    "        self.weighted_sum =  self.weights @ inputs + self.bias \n",
    "        # An alternative would be:\n",
    "        # weighted_sum =  np.dot(inputs, self.weights) + self.bias\n",
    "\n",
    "        # 2. Return the activation\n",
    "        return sigmoid(self.weighted_sum)\n",
    "    \n",
    "    def update(self, delta):\n",
    "        \n",
    "        # calculate the weight updates\n",
    "        gradient_weights = delta * self.inputs\n",
    "        self.weights -= self.alpha * gradient_weights\n",
    "        # calculate the bias updates\n",
    "        self.bias -= self.alpha * delta"
   ]
  },
  {
   "cell_type": "markdown",
   "metadata": {},
   "source": [
    "Implement MLP"
   ]
  },
  {
   "cell_type": "code",
   "execution_count": 324,
   "metadata": {},
   "outputs": [],
   "source": [
    "# implement Multi-Layer Perceptron class which can perform a forward and backprop-step\n",
    "\n",
    "class MLP():\n",
    "    def __init__(self):\n",
    "        # initialize 4 perceptrons of the hidden layer\n",
    "        self.h_layer = [Perceptron(2), Perceptron(2), Perceptron(2), Perceptron(2)]\n",
    "        \n",
    "        # initialize the output neuron\n",
    "        self.out_neuron = Perceptron(4)\n",
    "        \n",
    "        # initialize a variable self.output to store the output\n",
    "        self.output = 0\n",
    "    \n",
    "    def forward_step(self, inputs):\n",
    "        \n",
    "        # create an empty list\n",
    "        activations = []\n",
    "        \n",
    "        # compute the activation for every perceptron in hidden layer iteratively      \n",
    "        for perceptron in self.h_layer:\n",
    "            # store the values in the activations list\n",
    "            activations.append(perceptron.forward_step(inputs))\n",
    "        \n",
    "        # convert the activations list into an array\n",
    "        activaitons = np.array(activations)\n",
    "        \n",
    "        # reshape the resulting array to feed it to the output neuron\n",
    "        activations = np.reshape(activations, newshape = (-1))\n",
    "        \n",
    "        # feed the activations of the hidden layer into the output layer\n",
    "        # store it in self.output\n",
    "        self.output = self.out_neuron.forward_step(activations)\n",
    "        \n",
    "    \n",
    "    def backprop_step(self, inputs, target):\n",
    "        # get the delta for the output neuron\n",
    "        delta_output = (self.output - target) * sigmoidprime(self.out_neuron.weighted_sum)\n",
    "        # update\n",
    "        self.out_neuron.update(delta_output)\n",
    "#        hidden_deltas = [delta_output * sigmoidprime(p.weighted_sum) * self.out_neuron.weights[i] for i, p in enumerate(self.h_layer)]\n",
    "        # Update the parameters for all four neurons in the hidden layer.\n",
    "#        for i,p in enumerate(self.h_layer):\n",
    "#            p.update(hidden_deltas[i])\n",
    "        # an empty list for storing the delta values of the hidden layer\n",
    "        delta_h = []\n",
    "        # for each perceptron in the hidden layer\n",
    "        for i, p in enumerate(self.h_layer):\n",
    "            # compute the delta value and add it to the list\n",
    "            delta_h.append(delta_output * sigmoidprime(p.weighted_sum) * self.out_neuron.weights[i])\n",
    "            # update the value for the neuron\n",
    "            p.update(delta_h[i])\n",
    "     \n",
    "    "
   ]
  },
  {
   "cell_type": "code",
   "execution_count": 335,
   "metadata": {},
   "outputs": [],
   "source": [
    "# Training\n",
    "# initialize the MLP\n",
    "mlp = MLP()\n",
    "\n",
    "# initialize list to store performance\n",
    "accuracies = []\n",
    "losses = []\n",
    "epochs = []\n",
    "\n",
    "# train for 1000 epochs\n",
    "for i in range(1000):\n",
    "    # keep track of the steps\n",
    "    epochs.append(i)\n",
    "    \n",
    "    my_accuracy = 0\n",
    "    my_loss = 0\n",
    "    \n",
    "    \n",
    "    for n in range(4):\n",
    "        input = possible_inputs[n]\n",
    "        target = t_xor[n]\n",
    "        \n",
    "        mlp.forward_step(input)\n",
    "        mlp.backprop_step(input, target)\n",
    "        \n",
    "        my_accuracy += int(int(mlp.output >= 0.5) == target)\n",
    "        my_loss += (target - mlp.output) ** 2\n",
    "    \n",
    "    accuracy = my_accuracy/4\n",
    "    accuracies.append(accuracy)\n",
    "    losses.append(my_loss)\n",
    "        "
   ]
  },
  {
   "cell_type": "code",
   "execution_count": 336,
   "metadata": {},
   "outputs": [
    {
     "data": {
      "image/png": "[encoded data removed]",
      "text/plain": [
       "<Figure size 432x288 with 1 Axes>"
      ]
     },
     "metadata": {
      "needs_background": "light"
     },
     "output_type": "display_data"
    },
    {
     "data": {
      "image/png": "[encoded data removed]",
      "text/plain": [
       "<Figure size 432x288 with 1 Axes>"
      ]
     },
     "metadata": {
      "needs_background": "light"
     },
     "output_type": "display_data"
    }
   ],
   "source": [
    "plt.figure()\n",
    "plt.plot(epochs,accuracies)\n",
    "plt.xlabel(\"Training Steps\")\n",
    "plt.ylabel(\"Accuracy\")\n",
    "plt.show()\n",
    "\n",
    "plt.figure()\n",
    "plt.plot(epochs,losses)\n",
    "plt.xlabel(\"Training Steps\")\n",
    "plt.ylabel(\"Loss\")\n",
    "plt.show()\n",
    "\n"
   ]
  }
 ],
 "metadata": {
  "colab": {
   "collapsed_sections": [],
   "name": "Flipped_classroom02.ipynb",
   "provenance": []
  },
  "kernelspec": {
   "display_name": "Python 3",
   "language": "python",
   "name": "python3"
  },
  "language_info": {
   "codemirror_mode": {
    "name": "ipython",
    "version": 3
   },
   "file_extension": ".py",
   "mimetype": "text/x-python",
   "name": "python",
   "nbconvert_exporter": "python",
   "pygments_lexer": "ipython3",
   "version": "3.7.9"
  }
 },
 "nbformat": 4,
 "nbformat_minor": 1
}

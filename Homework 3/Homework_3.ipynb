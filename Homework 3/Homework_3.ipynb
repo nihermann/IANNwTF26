{
  "nbformat": 4,
  "nbformat_minor": 0,
  "metadata": {
    "accelerator": "GPU",
    "colab": {
      "name": "Kopie von Homework_3.ipynb",
      "provenance": [],
      "collapsed_sections": []
    },
    "kernelspec": {
      "display_name": "Python 3",
      "language": "python",
      "name": "python3"
    },
    "language_info": {
      "codemirror_mode": {
        "name": "ipython",
        "version": 3
      },
      "file_extension": ".py",
      "mimetype": "text/x-python",
      "name": "python",
      "nbconvert_exporter": "python",
      "pygments_lexer": "ipython3",
      "version": "3.7.6"
    },
    "widgets": {
      "application/vnd.jupyter.widget-state+json": {
        "6c8bceb210b64f23a826c8ad95e37816": {
          "model_module": "@jupyter-widgets/controls",
          "model_name": "HBoxModel",
          "state": {
            "_view_name": "HBoxView",
            "_dom_classes": [],
            "_model_name": "HBoxModel",
            "_view_module": "@jupyter-widgets/controls",
            "_model_module_version": "1.5.0",
            "_view_count": null,
            "_view_module_version": "1.5.0",
            "box_style": "",
            "layout": "IPY_MODEL_aef8d80b4c214007ba3a1730c55f2061",
            "_model_module": "@jupyter-widgets/controls",
            "children": [
              "IPY_MODEL_61286b5c206646988d2cee8d0e1f781a",
              "IPY_MODEL_24cb1dcd419f4e3782eddd4b9142535e"
            ]
          }
        },
        "aef8d80b4c214007ba3a1730c55f2061": {
          "model_module": "@jupyter-widgets/base",
          "model_name": "LayoutModel",
          "state": {
            "_view_name": "LayoutView",
            "grid_template_rows": null,
            "right": null,
            "justify_content": null,
            "_view_module": "@jupyter-widgets/base",
            "overflow": null,
            "_model_module_version": "1.2.0",
            "_view_count": null,
            "flex_flow": null,
            "width": null,
            "min_width": null,
            "border": null,
            "align_items": null,
            "bottom": null,
            "_model_module": "@jupyter-widgets/base",
            "top": null,
            "grid_column": null,
            "overflow_y": null,
            "overflow_x": null,
            "grid_auto_flow": null,
            "grid_area": null,
            "grid_template_columns": null,
            "flex": null,
            "_model_name": "LayoutModel",
            "justify_items": null,
            "grid_row": null,
            "max_height": null,
            "align_content": null,
            "visibility": null,
            "align_self": null,
            "height": null,
            "min_height": null,
            "padding": null,
            "grid_auto_rows": null,
            "grid_gap": null,
            "max_width": null,
            "order": null,
            "_view_module_version": "1.2.0",
            "grid_template_areas": null,
            "object_position": null,
            "object_fit": null,
            "grid_auto_columns": null,
            "margin": null,
            "display": null,
            "left": null
          }
        },
        "61286b5c206646988d2cee8d0e1f781a": {
          "model_module": "@jupyter-widgets/controls",
          "model_name": "FloatProgressModel",
          "state": {
            "_view_name": "ProgressView",
            "style": "IPY_MODEL_60c74edb94da4dab9465887056df3f33",
            "_dom_classes": [],
            "description": "Dl Completed...: 100%",
            "_model_name": "FloatProgressModel",
            "bar_style": "success",
            "max": 12,
            "_view_module": "@jupyter-widgets/controls",
            "_model_module_version": "1.5.0",
            "value": 12,
            "_view_count": null,
            "_view_module_version": "1.5.0",
            "orientation": "horizontal",
            "min": 0,
            "description_tooltip": null,
            "_model_module": "@jupyter-widgets/controls",
            "layout": "IPY_MODEL_e345604da62b4fec9555dee6cceff849"
          }
        },
        "24cb1dcd419f4e3782eddd4b9142535e": {
          "model_module": "@jupyter-widgets/controls",
          "model_name": "HTMLModel",
          "state": {
            "_view_name": "HTMLView",
            "style": "IPY_MODEL_5b20048109f048e79c4c1980b0e96bf4",
            "_dom_classes": [],
            "description": "",
            "_model_name": "HTMLModel",
            "placeholder": "​",
            "_view_module": "@jupyter-widgets/controls",
            "_model_module_version": "1.5.0",
            "value": " 12/12 [00:12&lt;00:00,  1.01s/ file]",
            "_view_count": null,
            "_view_module_version": "1.5.0",
            "description_tooltip": null,
            "_model_module": "@jupyter-widgets/controls",
            "layout": "IPY_MODEL_7d11dedd64004e15b710ceeefeb0eb12"
          }
        },
        "60c74edb94da4dab9465887056df3f33": {
          "model_module": "@jupyter-widgets/controls",
          "model_name": "ProgressStyleModel",
          "state": {
            "_view_name": "StyleView",
            "_model_name": "ProgressStyleModel",
            "description_width": "initial",
            "_view_module": "@jupyter-widgets/base",
            "_model_module_version": "1.5.0",
            "_view_count": null,
            "_view_module_version": "1.2.0",
            "bar_color": null,
            "_model_module": "@jupyter-widgets/controls"
          }
        },
        "e345604da62b4fec9555dee6cceff849": {
          "model_module": "@jupyter-widgets/base",
          "model_name": "LayoutModel",
          "state": {
            "_view_name": "LayoutView",
            "grid_template_rows": null,
            "right": null,
            "justify_content": null,
            "_view_module": "@jupyter-widgets/base",
            "overflow": null,
            "_model_module_version": "1.2.0",
            "_view_count": null,
            "flex_flow": null,
            "width": null,
            "min_width": null,
            "border": null,
            "align_items": null,
            "bottom": null,
            "_model_module": "@jupyter-widgets/base",
            "top": null,
            "grid_column": null,
            "overflow_y": null,
            "overflow_x": null,
            "grid_auto_flow": null,
            "grid_area": null,
            "grid_template_columns": null,
            "flex": null,
            "_model_name": "LayoutModel",
            "justify_items": null,
            "grid_row": null,
            "max_height": null,
            "align_content": null,
            "visibility": null,
            "align_self": null,
            "height": null,
            "min_height": null,
            "padding": null,
            "grid_auto_rows": null,
            "grid_gap": null,
            "max_width": null,
            "order": null,
            "_view_module_version": "1.2.0",
            "grid_template_areas": null,
            "object_position": null,
            "object_fit": null,
            "grid_auto_columns": null,
            "margin": null,
            "display": null,
            "left": null
          }
        },
        "5b20048109f048e79c4c1980b0e96bf4": {
          "model_module": "@jupyter-widgets/controls",
          "model_name": "DescriptionStyleModel",
          "state": {
            "_view_name": "StyleView",
            "_model_name": "DescriptionStyleModel",
            "description_width": "",
            "_view_module": "@jupyter-widgets/base",
            "_model_module_version": "1.5.0",
            "_view_count": null,
            "_view_module_version": "1.2.0",
            "_model_module": "@jupyter-widgets/controls"
          }
        },
        "7d11dedd64004e15b710ceeefeb0eb12": {
          "model_module": "@jupyter-widgets/base",
          "model_name": "LayoutModel",
          "state": {
            "_view_name": "LayoutView",
            "grid_template_rows": null,
            "right": null,
            "justify_content": null,
            "_view_module": "@jupyter-widgets/base",
            "overflow": null,
            "_model_module_version": "1.2.0",
            "_view_count": null,
            "flex_flow": null,
            "width": null,
            "min_width": null,
            "border": null,
            "align_items": null,
            "bottom": null,
            "_model_module": "@jupyter-widgets/base",
            "top": null,
            "grid_column": null,
            "overflow_y": null,
            "overflow_x": null,
            "grid_auto_flow": null,
            "grid_area": null,
            "grid_template_columns": null,
            "flex": null,
            "_model_name": "LayoutModel",
            "justify_items": null,
            "grid_row": null,
            "max_height": null,
            "align_content": null,
            "visibility": null,
            "align_self": null,
            "height": null,
            "min_height": null,
            "padding": null,
            "grid_auto_rows": null,
            "grid_gap": null,
            "max_width": null,
            "order": null,
            "_view_module_version": "1.2.0",
            "grid_template_areas": null,
            "object_position": null,
            "object_fit": null,
            "grid_auto_columns": null,
            "margin": null,
            "display": null,
            "left": null
          }
        }
      }
    }
  },
  "cells": [
    {
      "cell_type": "markdown",
      "metadata": {
        "id": "0E1YhyD5KaC7"
      },
      "source": [
        "## Imports"
      ]
    },
    {
      "cell_type": "code",
      "metadata": {
        "id": "HmroCiO5Nrxk"
      },
      "source": [
        "import tensorflow as tf\n",
        "import tensorflow_datasets as tfds\n",
        "from tensorflow.keras import Model\n",
        "from tensorflow.keras.layers import Layer\n",
        "import numpy as np\n",
        "import matplotlib.pyplot as plt"
      ],
      "execution_count": null,
      "outputs": []
    },
    {
      "cell_type": "markdown",
      "metadata": {
        "id": "rYdeq1BcKe38"
      },
      "source": [
        "## Loading the dataset"
      ]
    },
    {
      "cell_type": "code",
      "metadata": {
        "id": "2D_T45Tqfg6r",
        "colab": {
          "base_uri": "https://localhost:8080/",
          "height": 202,
          "referenced_widgets": [
            "6c8bceb210b64f23a826c8ad95e37816",
            "aef8d80b4c214007ba3a1730c55f2061",
            "61286b5c206646988d2cee8d0e1f781a",
            "24cb1dcd419f4e3782eddd4b9142535e",
            "60c74edb94da4dab9465887056df3f33",
            "e345604da62b4fec9555dee6cceff849",
            "5b20048109f048e79c4c1980b0e96bf4",
            "7d11dedd64004e15b710ceeefeb0eb12"
          ]
        },
        "outputId": "7884b6a1-46e9-427e-a9e9-4915faad0c5b"
      },
      "source": [
        "(training_genoms, training_labels), (test_genoms, test_labels) = tfds.load(\n",
        "    \"genomics_ood\", # name of the dataset\n",
        "    as_supervised=True, # as supervised because we want the labels for each genom as well.\n",
        "    split=[\"train[0:100000]\", \"test[0:1000]\"], # we only take the elements 0-100.000 from the train set and 0-1000 from the test set.\n",
        "    batch_size=(-1) # -1 to get the full dataset as a tf.Tensor\n",
        "    )"
      ],
      "execution_count": null,
      "outputs": [
        {
          "output_type": "stream",
          "text": [
            "\u001b[1mDownloading and preparing dataset genomics_ood/0.0.1 (download: Unknown size, generated: 926.87 MiB, total: 926.87 MiB) to /root/tensorflow_datasets/genomics_ood/0.0.1...\u001b[0m\n"
          ],
          "name": "stdout"
        },
        {
          "output_type": "stream",
          "text": [
            "WARNING:absl:Dataset genomics_ood is hosted on GCS. It will automatically be downloaded to your\n",
            "local data directory. If you'd instead prefer to read directly from our public\n",
            "GCS bucket (recommended if you're running on GCP), you can instead pass\n",
            "`try_gcs=True` to `tfds.load` or set `data_dir=gs://tfds-data/datasets`.\n",
            "\n"
          ],
          "name": "stderr"
        },
        {
          "output_type": "display_data",
          "data": {
            "application/vnd.jupyter.widget-view+json": {
              "model_id": "6c8bceb210b64f23a826c8ad95e37816",
              "version_minor": 0,
              "version_major": 2
            },
            "text/plain": [
              "HBox(children=(FloatProgress(value=0.0, description='Dl Completed...', max=12.0, style=ProgressStyle(descripti…"
            ]
          },
          "metadata": {
            "tags": []
          }
        },
        {
          "output_type": "stream",
          "text": [
            "\n",
            "\n",
            "\u001b[1mDataset genomics_ood downloaded and prepared to /root/tensorflow_datasets/genomics_ood/0.0.1. Subsequent calls will reuse this data.\u001b[0m\n"
          ],
          "name": "stdout"
        }
      ]
    },
    {
      "cell_type": "markdown",
      "metadata": {
        "id": "fGEboT3RcchZ"
      },
      "source": [
        "## Helper Methods for processing the data"
      ]
    },
    {
      "cell_type": "code",
      "metadata": {
        "id": "8T-InS8Tur-G"
      },
      "source": [
        "def onehotify(tensor):\n",
        "    \"\"\"onehotify takes in a tensor of a single genom sequence and converts it to a Tensor with only zeros and ones.\"\"\"\n",
        "    vocab = {\"A\":\"1\", \"C\":\"2\", \"G\":\"3\", \"T\":\"0\"}\n",
        "    for key in vocab.keys():\n",
        "      tensor = tf.strings.regex_replace(tensor, key, vocab[key])\n",
        "    split = tf.strings.bytes_split(tensor)\n",
        "    labels = tf.cast(tf.strings.to_number(split), tf.uint8)\n",
        "    onehot = tf.one_hot(labels, 4)\n",
        "    onehot = tf.reshape(onehot, (-1,))\n",
        "    return onehot\n"
      ],
      "execution_count": null,
      "outputs": []
    },
    {
      "cell_type": "code",
      "metadata": {
        "id": "tH9S580X9W1o"
      },
      "source": [
        "def build_pipeline(genoms, labels, batch_size, prefetch_size):\n",
        "    \"\"\"takes in respective input genoms and labels and builds a single data pipeline out of it\"\"\"\n",
        "    # Transform input to datasets\n",
        "    genoms_ds = tf.data.Dataset.from_tensor_slices(genoms)\n",
        "    labels_ds = tf.data.Dataset.from_tensor_slices(labels)\n",
        "\n",
        "    # preprocess the data\n",
        "    genoms_ds = genoms_ds.map(onehotify)\n",
        "    labels_ds = labels_ds.map(lambda x: tf.reshape(tf.one_hot(x, 10), (-1,)))\n",
        "\n",
        "    # combine the datasets\n",
        "    ds = tf.data.Dataset.zip((genoms_ds, labels_ds))\n",
        "\n",
        "    # make batches and shuffle those\n",
        "    ds = ds.batch(batch_size)\n",
        "    ds = ds.shuffle(buffer_size=batch_size)\n",
        "    ds = ds.prefetch(prefetch_size)\n",
        "\n",
        "    return ds"
      ],
      "execution_count": null,
      "outputs": []
    },
    {
      "cell_type": "markdown",
      "metadata": {
        "id": "a3aO_tOocpYE"
      },
      "source": [
        "## Creating a Model class for our Neuronal Network\n",
        "The Netowrk will have two fully connected hidden layers with each 256 units and the sigmoid function as their activation function.\n",
        "The output layer will only have 10 units, one for each of the ten bacteria classes. The activation function in the output layer is the softmax funcion which normalises the output over all the output units."
      ]
    },
    {
      "cell_type": "code",
      "metadata": {
        "id": "vj7rtjwdJyVA"
      },
      "source": [
        "# mostly taken from Tensorflow_Intro.ipynb\n",
        "class Model(Model): \n",
        "    \n",
        "    def __init__(self):\n",
        "        super(Model, self).__init__()\n",
        "        # Define the three layers.\n",
        "        self.hidden_layer_1 = tf.keras.layers.Dense(units=256,\n",
        "                                               activation=tf.keras.activations.sigmoid\n",
        "                                               )\n",
        "        self.hidden_layer_2 = tf.keras.layers.Dense(units=256,\n",
        "                                               activation=tf.keras.activations.sigmoid\n",
        "                                               )\n",
        "        self.output_layer = tf.keras.layers.Dense(units=10,\n",
        "                                               activation=tf.keras.activations.softmax\n",
        "                                               )\n",
        "    @tf.function\n",
        "    def call(self, x):\n",
        "        # Define the forward step.\n",
        "        x = self.hidden_layer_1(x)\n",
        "        x = self.hidden_layer_2(x)\n",
        "        x = self.output_layer(x)\n",
        "        return x"
      ],
      "execution_count": null,
      "outputs": []
    },
    {
      "cell_type": "markdown",
      "metadata": {
        "id": "K7nGUEZhevxE"
      },
      "source": [
        "## Defining the training step and test function for measuring the loss and accuracy of the Model"
      ]
    },
    {
      "cell_type": "code",
      "metadata": {
        "id": "lxEpqCCi-lqj"
      },
      "source": [
        "# taken from Tensorflow_Intro.ipynb\n",
        "def train_step(model, input, target, loss_function, optimizer):\n",
        "    # loss_object and optimizer_object are instances of respective tensorflow classes\n",
        "    with tf.GradientTape() as tape:\n",
        "      prediction = model(input)\n",
        "      loss = loss_function(target, prediction)\n",
        "      gradients = tape.gradient(loss, model.trainable_variables)\n",
        "    optimizer.apply_gradients(zip(gradients, model.trainable_variables))\n",
        "    return loss \n",
        "\n",
        "def test(model, test_data, loss_function):\n",
        "    # test over complete test data\n",
        "\n",
        "    test_accuracy_aggregator = []\n",
        "    test_loss_aggregator = []\n",
        "\n",
        "    for (input, target) in test_data:\n",
        "      prediction = model(input)\n",
        "      sample_test_loss = loss_function(target, prediction)\n",
        "      sample_test_accuracy =  np.argmax(target, axis=1) == np.argmax(prediction, axis=1)\n",
        "      sample_test_accuracy = np.mean(sample_test_accuracy)\n",
        "      test_loss_aggregator.append(sample_test_loss.numpy())\n",
        "      test_accuracy_aggregator.append(sample_test_accuracy)\n",
        "\n",
        "    test_loss = np.mean(test_loss_aggregator)\n",
        "    test_accuracy = np.mean(test_accuracy_aggregator)\n",
        "\n",
        "    return test_loss, test_accuracy"
      ],
      "execution_count": null,
      "outputs": []
    },
    {
      "cell_type": "markdown",
      "metadata": {
        "id": "JvA-n6a-h_fi"
      },
      "source": [
        "## Start learning\n",
        "First we get our test and training data pipeline and afterwards we will start the training."
      ]
    },
    {
      "cell_type": "code",
      "metadata": {
        "id": "8RVqToiJfaDx"
      },
      "source": [
        "# Process training and test data\n",
        "training_ds = build_pipeline(training_genoms, training_labels, batch_size=100, prefetch_size=60)\n",
        "test_ds = build_pipeline(test_genoms, test_labels, batch_size=100, prefetch_size=60)"
      ],
      "execution_count": null,
      "outputs": []
    },
    {
      "cell_type": "code",
      "metadata": {
        "id": "cqSExH5fLhXS",
        "colab": {
          "base_uri": "https://localhost:8080/"
        },
        "outputId": "f0de4ad1-6062-47ef-b73b-741a749ccf74"
      },
      "source": [
        "# most things from Tensorflow_Intro.ipynb\n",
        "tf.keras.backend.clear_session()\n",
        "\n",
        "\n",
        "## HYPER PARAMETERS\n",
        "epochs = 10\n",
        "learning_rate = 0.1\n",
        "\n",
        "\n",
        "# Initialize NN\n",
        "model = Model()\n",
        "# loss\n",
        "cross_entropy_loss = tf.keras.losses.CategoricalCrossentropy()\n",
        "# optimizer\n",
        "gradientDescent = tf.keras.optimizers.SGD(learning_rate)\n",
        "\n",
        "# lists for vizualisation\n",
        "training_losses = []\n",
        "\n",
        "test_losses = []\n",
        "test_accuracies = []\n",
        "\n",
        "# let's test our Model how it performes on the test dataset before learning\n",
        "test_loss, test_accuracy = test(model, test_ds, cross_entropy_loss)\n",
        "test_losses.append(test_loss)\n",
        "test_accuracies.append(test_accuracy)\n",
        "\n",
        "# check how our Model performs on training dataset before learning\n",
        "train_loss, _ = test(model, training_ds, cross_entropy_loss)\n",
        "training_losses.append(train_loss)\n",
        "\n",
        "# We train for before specified epochs.\n",
        "for epoch in range(epochs):\n",
        "    print('Epoch: __ ' + str(epoch))\n",
        "\n",
        "    # shuffle the datasets for each epoch\n",
        "    training_ds = training_ds.shuffle(buffer_size=100)\n",
        "    test_ds = test_ds.shuffle(buffer_size=100)\n",
        "\n",
        "    # perform a training step with each entry of our data pipeline and record the loss\n",
        "    for (genom, label) in training_ds:\n",
        "        train_loss = train_step(model, genom, label, cross_entropy_loss, gradientDescent)\n",
        "    training_losses.append(train_loss)\n",
        "\n",
        "    # check how our Model performs after one learning epoch on our test dataset and record it as well\n",
        "    test_loss, test_accuracy = test(model, test_ds, cross_entropy_loss)\n",
        "    test_losses.append(test_loss)\n",
        "    test_accuracies.append(test_accuracy)"
      ],
      "execution_count": null,
      "outputs": [
        {
          "output_type": "stream",
          "text": [
            "Epoch: __ 0\n",
            "Epoch: __ 1\n",
            "Epoch: __ 2\n",
            "Epoch: __ 3\n",
            "Epoch: __ 4\n",
            "Epoch: __ 5\n",
            "Epoch: __ 6\n",
            "Epoch: __ 7\n",
            "Epoch: __ 8\n",
            "Epoch: __ 9\n"
          ],
          "name": "stdout"
        }
      ]
    },
    {
      "cell_type": "markdown",
      "metadata": {
        "id": "c-0gK3vKiTxR"
      },
      "source": [
        "## Visualize our recorded loss and accuracy from the training"
      ]
    },
    {
      "cell_type": "code",
      "metadata": {
        "id": "hbQ0jIgQNJ83",
        "colab": {
          "base_uri": "https://localhost:8080/",
          "height": 541
        },
        "outputId": "fd9211a0-3f5c-4aa7-be6c-9966616fef42"
      },
      "source": [
        "# taken from Tensorflow_Intro.ipynb\n",
        "\n",
        "# Visualize accuracy and loss for training and test data. \n",
        "# One plot training and test loss.\n",
        "# One plot training and test accuracy.\n",
        "plt.figure()\n",
        "line1, = plt.plot(training_losses)\n",
        "line2, = plt.plot(test_losses)\n",
        "plt.xlabel(\"Training steps\")\n",
        "plt.ylabel(\"Loss\")\n",
        "plt.legend((line1,line2),(\"training\",\"test\"))\n",
        "plt.show()\n",
        "\n",
        "plt.figure()\n",
        "line1, = plt.plot(test_accuracies)\n",
        "plt.xlabel(\"Training steps\")\n",
        "plt.ylabel(\"Accuracy\")\n",
        "plt.show()\n"
      ],
      "execution_count": null,
      "outputs": [
        {
          "output_type": "display_data",
          "data": {
            "image/png": "[encoded data removed]",
            "text/plain": [
              "<Figure size 432x288 with 1 Axes>"
            ]
          },
          "metadata": {
            "tags": [],
            "needs_background": "light"
          }
        },
        {
          "output_type": "display_data",
          "data": {
            "image/png": "[encoded data removed]",
            "text/plain": [
              "<Figure size 432x288 with 1 Axes>"
            ]
          },
          "metadata": {
            "tags": [],
            "needs_background": "light"
          }
        }
      ]
    }
  ]
}
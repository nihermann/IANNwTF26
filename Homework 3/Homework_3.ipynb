{
  "nbformat": 4,
  "nbformat_minor": 0,
  "metadata": {
    "accelerator": "GPU",
    "colab": {
      "name": "Homework_3.ipynb",
      "provenance": [],
      "collapsed_sections": []
    },
    "kernelspec": {
      "display_name": "Python 3",
      "language": "python",
      "name": "python3"
    },
    "language_info": {
      "codemirror_mode": {
        "name": "ipython",
        "version": 3
      },
      "file_extension": ".py",
      "mimetype": "text/x-python",
      "name": "python",
      "nbconvert_exporter": "python",
      "pygments_lexer": "ipython3",
      "version": "3.7.6"
    }
  },
  "cells": [
    {
      "cell_type": "code",
      "metadata": {
        "id": "HmroCiO5Nrxk"
      },
      "source": [
        "import tensorflow as tf\n",
        "import tensorflow_datasets as tfds\n",
        "from tensorflow.keras import Model\n",
        "from tensorflow.keras.layers import Layer\n",
        "import numpy as np\n",
        "import matplotlib.pyplot as plt"
      ],
      "execution_count": 26,
      "outputs": []
    },
    {
      "cell_type": "code",
      "metadata": {
        "id": "2D_T45Tqfg6r"
      },
      "source": [
        "(training_genoms, training_labels), (test_genoms, test_labels) = tfds.load(\"genomics_ood\", as_supervised=True, split=[\"train[0:100000]\", \"test[0:1000]\"], batch_size=(-1))"
      ],
      "execution_count": 27,
      "outputs": []
    },
    {
      "cell_type": "code",
      "metadata": {
        "id": "8T-InS8Tur-G"
      },
      "source": [
        "def onehotify(tensor):\n",
        "    vocab = {\"A\":\"1\", \"C\":\"2\", \"G\":\"3\", \"T\":\"0\"}\n",
        "    for key in vocab.keys():\n",
        "      tensor = tf.strings.regex_replace(tensor, key, vocab[key])\n",
        "    split = tf.strings.bytes_split(tensor)\n",
        "    labels = tf.cast(tf.strings.to_number(split), tf.uint8)\n",
        "    onehot = tf.one_hot(labels, 4)\n",
        "    onehot = tf.reshape(onehot, (-1,))\n",
        "    return onehot\n"
      ],
      "execution_count": 28,
      "outputs": []
    },
    {
      "cell_type": "code",
      "metadata": {
        "id": "tH9S580X9W1o"
      },
      "source": [
        "def build_pipeline(genoms, labels, batch_size, prefetch_size):\n",
        "    # Transform input to datasets\n",
        "    genoms_ds = tf.data.Dataset.from_tensor_slices(genoms)\n",
        "    labels_ds = tf.data.Dataset.from_tensor_slices(labels)\n",
        "\n",
        "    # preprocess the data\n",
        "    genoms_ds = genoms_ds.map(onehotify)\n",
        "    labels_ds = labels_ds.map(lambda x: tf.reshape(tf.one_hot(x, 10), (-1,)))\n",
        "\n",
        "    # combine the datasets\n",
        "    ds = tf.data.Dataset.zip((genoms_ds, labels_ds))\n",
        "\n",
        "    # make batches and shuffle those\n",
        "    ds = ds.batch(batch_size)\n",
        "    ds = ds.shuffle(buffer_size=batch_size)\n",
        "    ds = ds.prefetch(prefetch_size)\n",
        "\n",
        "    return ds"
      ],
      "execution_count": 29,
      "outputs": []
    },
    {
      "cell_type": "code",
      "metadata": {
        "id": "NywDRoKj-M_R"
      },
      "source": [
        "# Process training and test data\n",
        "training_ds = build_pipeline(training_genoms, training_labels, 100, 60)\n",
        "test_ds = build_pipeline(test_genoms, test_labels, 100, 60)"
      ],
      "execution_count": 30,
      "outputs": []
    },
    {
      "cell_type": "code",
      "metadata": {
        "id": "vj7rtjwdJyVA"
      },
      "source": [
        "# taken from Tensorflow_Intro.ipynb\n",
        "class Model(Model): \n",
        "    \n",
        "    def __init__(self):\n",
        "        super(Model, self).__init__()\n",
        "        # Define the three layers.\n",
        "        self.hidden_layer_1 = tf.keras.layers.Dense(units=256,\n",
        "                                               activation=tf.keras.activations.sigmoid\n",
        "                                               )\n",
        "        self.hidden_layer_2 = tf.keras.layers.Dense(units=256,\n",
        "                                               activation=tf.keras.activations.sigmoid\n",
        "                                               )\n",
        "        self.output_layer = tf.keras.layers.Dense(units=10,\n",
        "                                               activation=tf.keras.activations.softmax\n",
        "                                               )\n",
        "    @tf.function\n",
        "    def call(self, x):\n",
        "        # Define the forward step.\n",
        "        x = self.hidden_layer_1(x)\n",
        "        x = self.hidden_layer_2(x)\n",
        "        x = self.output_layer(x)\n",
        "        return x"
      ],
      "execution_count": 31,
      "outputs": []
    },
    {
      "cell_type": "code",
      "metadata": {
        "id": "lxEpqCCi-lqj"
      },
      "source": [
        "# taken from Tensorflow_Intro.ipynb\n",
        "def train_step(model, input, target, loss_function, optimizer):\n",
        "    # loss_object and optimizer_object are instances of respective tensorflow classes\n",
        "    with tf.GradientTape() as tape:\n",
        "      prediction = model(input)\n",
        "      loss = loss_function(target, prediction)\n",
        "      gradients = tape.gradient(loss, model.trainable_variables)\n",
        "    optimizer.apply_gradients(zip(gradients, model.trainable_variables))\n",
        "    return loss \n",
        "\n",
        "def test(model, test_data, loss_function):\n",
        "    # test over complete test data\n",
        "\n",
        "    test_accuracy_aggregator = []\n",
        "    test_loss_aggregator = []\n",
        "\n",
        "    for (input, target) in test_data:\n",
        "      prediction = model(input)\n",
        "      sample_test_loss = loss_function(target, prediction)\n",
        "      sample_test_accuracy =  np.argmax(target, axis=1) == np.argmax(prediction, axis=1)\n",
        "      sample_test_accuracy = np.mean(sample_test_accuracy)\n",
        "      test_loss_aggregator.append(sample_test_loss.numpy())\n",
        "      test_accuracy_aggregator.append(np.mean(sample_test_accuracy))\n",
        "\n",
        "    test_loss = np.mean(test_loss_aggregator)\n",
        "    test_accuracy = np.mean(test_accuracy_aggregator)\n",
        "\n",
        "    return test_loss, test_accuracy"
      ],
      "execution_count": 32,
      "outputs": []
    },
    {
      "cell_type": "code",
      "metadata": {
        "id": "cqSExH5fLhXS",
        "outputId": "16be9340-4da8-46b4-e469-50278c41a32e",
        "colab": {
          "base_uri": "https://localhost:8080/"
        }
      },
      "source": [
        "# most things from Tensorflow_Intro.ipynb\n",
        "tf.keras.backend.clear_session()\n",
        "\n",
        "epochs = 10\n",
        "learning_rate = 0.1\n",
        "\n",
        "\n",
        "# Initialize NN\n",
        "model = Model()\n",
        "# loss\n",
        "cross_entropy_loss = tf.keras.losses.CategoricalCrossentropy()\n",
        "# optimizer\n",
        "gradientDescent = tf.keras.optimizers.SGD(learning_rate)\n",
        "\n",
        "# lists for vizualisation\n",
        "training_losses = []\n",
        "\n",
        "test_losses = []\n",
        "test_accuracies = []\n",
        "\n",
        "# testing once before we begin\n",
        "test_loss, test_accuracy = test(model, test_ds, cross_entropy_loss)\n",
        "test_losses.append(test_loss)\n",
        "test_accuracies.append(test_accuracy)\n",
        "\n",
        "#check how model performs on train data once before we begin\n",
        "train_loss, _ = test(model, training_ds, cross_entropy_loss)\n",
        "training_losses.append(train_loss)\n",
        "\n",
        "# We train for num_epochs epochs.\n",
        "for epoch in range(epochs):\n",
        "    print('Epoch: __ ' + str(epoch))\n",
        "\n",
        "    training_ds = training_ds.shuffle(buffer_size=100)\n",
        "    test_ds = test_ds.shuffle(buffer_size=100)\n",
        "\n",
        "    #training (and checking in with training)\n",
        "    for (input,target) in training_ds:\n",
        "      train_loss = train_step(model, input, target, cross_entropy_loss, gradientDescent)\n",
        "    training_losses.append(train_loss)\n",
        "\n",
        "    #testing\n",
        "    test_loss, test_accuracy = test(model, test_ds, cross_entropy_loss)\n",
        "    test_losses.append(test_loss)\n",
        "    test_accuracies.append(test_accuracy)"
      ],
      "execution_count": 33,
      "outputs": [
        {
          "output_type": "stream",
          "text": [
            "Epoch: __ 0\n",
            "Epoch: __ 1\n",
            "Epoch: __ 2\n",
            "Epoch: __ 3\n",
            "Epoch: __ 4\n",
            "Epoch: __ 5\n",
            "Epoch: __ 6\n",
            "Epoch: __ 7\n",
            "Epoch: __ 8\n",
            "Epoch: __ 9\n"
          ],
          "name": "stdout"
        }
      ]
    },
    {
      "cell_type": "code",
      "metadata": {
        "id": "hbQ0jIgQNJ83",
        "outputId": "78c18e20-a7b0-4ee3-d608-30bbd6a6baa0",
        "colab": {
          "base_uri": "https://localhost:8080/",
          "height": 541
        }
      },
      "source": [
        "# taken from Tensorflow_Intro.ipynb\n",
        "\n",
        "# Visualize accuracy and loss for training and test data. \n",
        "# One plot training and test loss.\n",
        "# One plot training and test accuracy.\n",
        "plt.figure()\n",
        "line1, = plt.plot(training_losses)\n",
        "line2, = plt.plot(test_losses)\n",
        "plt.xlabel(\"Training steps\")\n",
        "plt.ylabel(\"Loss\")\n",
        "plt.legend((line1,line2),(\"training\",\"test\"))\n",
        "plt.show()\n",
        "\n",
        "plt.figure()\n",
        "line1, = plt.plot(test_accuracies)\n",
        "plt.xlabel(\"Training steps\")\n",
        "plt.ylabel(\"Accuracy\")\n",
        "plt.show()\n"
      ],
      "execution_count": 34,
      "outputs": [
        {
          "output_type": "display_data",
          "data": {
            "image/png": "[encoded data removed]",
            "text/plain": [
              "<Figure size 432x288 with 1 Axes>"
            ]
          },
          "metadata": {
            "tags": [],
            "needs_background": "light"
          }
        },
        {
          "output_type": "display_data",
          "data": {
            "image/png": "[encoded data removed]",
            "text/plain": [
              "<Figure size 432x288 with 1 Axes>"
            ]
          },
          "metadata": {
            "tags": [],
            "needs_background": "light"
          }
        }
      ]
    }
  ]
}